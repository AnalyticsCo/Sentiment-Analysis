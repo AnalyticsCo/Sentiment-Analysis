{
 "cells": [
  {
   "cell_type": "markdown",
   "metadata": {},
   "source": [
    "## **YAP 101 Homework-7**  \n",
    "Due Date: 30 March 2020 23:59\n",
    "\n",
    "Send your files to m.torusdag@etu.edu.tr\n",
    "\n",
    "The subject of your email should be \"YAP101 HW7\"\n",
    "\n",
    "Total score is 105"
   ]
  },
  {
   "cell_type": "markdown",
   "metadata": {},
   "source": [
    "In this homework, you will use the  forestfires.csv file which is uploaded on Piazza. Each row represents a forest fire in Portugal with several attributes and the area of the fire. Your task is to build a regression model that predicts the fire area. The columns in the file are as follows. \n",
    "\n",
    "    X - x-axis spatial coordinate within the Montesinho park map: 1 to 9\n",
    "    Y - y-axis spatial coordinate within the Montesinho park map: 2 to 9\n",
    "    month - month of the year: 'jan' to 'dec'\n",
    "    day - day of the week: 'mon' to 'sun'\n",
    "    FFMC - FFMC index from the FWI system: 18.7 to 96.20\n",
    "    DMC - DMC index from the FWI system: 1.1 to 291.3\n",
    "    DC - DC index from the FWI system: 7.9 to 860.6\n",
    "    ISI - ISI index from the FWI system: 0.0 to 56.10\n",
    "    temp - temperature in Celsius degrees: 2.2 to 33.30\n",
    "    RH - relative humidity in %: 15.0 to 100\n",
    "    wind - wind speed in km/h: 0.40 to 9.40\n",
    "    rain - outside rain in mm/m2 : 0.0 to 6.4\n",
    "    area - the burned area of the forest (in ha): 0.00 to 1090.84 (this output variable is very skewed towards 0.0, thus it may make sense to model with the logarithm transform).\n"
   ]
  },
  {
   "cell_type": "code",
   "execution_count": 2,
   "metadata": {},
   "outputs": [],
   "source": [
    "# Run this cell first\n",
    "from datascience import * \n",
    "%matplotlib inline\n",
    "import matplotlib.pyplot as plots\n",
    "import numpy as np\n",
    "plots.style.use('fivethirtyeight')"
   ]
  },
  {
   "cell_type": "markdown",
   "metadata": {},
   "source": [
    "**Question 1 (5 Points)**. Load the data. We want to use the first 80% of the data for training and the last 20% for testing. "
   ]
  },
  {
   "cell_type": "code",
   "execution_count": 194,
   "metadata": {},
   "outputs": [
    {
     "data": {
      "text/html": [
       "<table border=\"1\" class=\"dataframe\">\n",
       "    <thead>\n",
       "        <tr>\n",
       "            <th>X</th> <th>Y</th> <th>month</th> <th>day</th> <th>FFMC</th> <th>DMC</th> <th>DC</th> <th>ISI</th> <th>temp</th> <th>RH</th> <th>wind</th> <th>rain</th> <th>area</th>\n",
       "        </tr>\n",
       "    </thead>\n",
       "    <tbody>\n",
       "        <tr>\n",
       "            <td>4   </td> <td>4   </td> <td>dec  </td> <td>mon </td> <td>85.4</td> <td>25.4 </td> <td>349.7</td> <td>2.6 </td> <td>4.6 </td> <td>21  </td> <td>8.5 </td> <td>0   </td> <td>2.37676 </td>\n",
       "        </tr>\n",
       "        <tr>\n",
       "            <td>4   </td> <td>6   </td> <td>mar  </td> <td>sun </td> <td>89.3</td> <td>51.3 </td> <td>102.2</td> <td>9.6 </td> <td>10.6</td> <td>46  </td> <td>4.9 </td> <td>0   </td> <td>0       </td>\n",
       "        </tr>\n",
       "        <tr>\n",
       "            <td>7   </td> <td>4   </td> <td>sep  </td> <td>sun </td> <td>92.4</td> <td>105.8</td> <td>758.1</td> <td>9.9 </td> <td>25.3</td> <td>27  </td> <td>2.7 </td> <td>0   </td> <td>0       </td>\n",
       "        </tr>\n",
       "        <tr>\n",
       "            <td>9   </td> <td>9   </td> <td>jul  </td> <td>sun </td> <td>90.1</td> <td>68.6 </td> <td>355.2</td> <td>7.2 </td> <td>24.8</td> <td>29  </td> <td>2.2 </td> <td>0   </td> <td>0.858662</td>\n",
       "        </tr>\n",
       "        <tr>\n",
       "            <td>2   </td> <td>4   </td> <td>sep  </td> <td>sun </td> <td>92.4</td> <td>105.8</td> <td>758.1</td> <td>9.9 </td> <td>16  </td> <td>45  </td> <td>1.8 </td> <td>0   </td> <td>0       </td>\n",
       "        </tr>\n",
       "        <tr>\n",
       "            <td>7   </td> <td>5   </td> <td>aug  </td> <td>sat </td> <td>93.7</td> <td>231.1</td> <td>715.1</td> <td>8.4 </td> <td>26.4</td> <td>33  </td> <td>3.6 </td> <td>0   </td> <td>0       </td>\n",
       "        </tr>\n",
       "        <tr>\n",
       "            <td>2   </td> <td>5   </td> <td>oct  </td> <td>sun </td> <td>92.6</td> <td>46.5 </td> <td>691.8</td> <td>8.8 </td> <td>15.4</td> <td>35  </td> <td>0.9 </td> <td>0   </td> <td>0       </td>\n",
       "        </tr>\n",
       "        <tr>\n",
       "            <td>1   </td> <td>2   </td> <td>aug  </td> <td>sun </td> <td>91.4</td> <td>142.4</td> <td>601.4</td> <td>10.6</td> <td>19.5</td> <td>39  </td> <td>6.3 </td> <td>0   </td> <td>0       </td>\n",
       "        </tr>\n",
       "        <tr>\n",
       "            <td>7   </td> <td>5   </td> <td>jun  </td> <td>sun </td> <td>93.1</td> <td>180.4</td> <td>430.8</td> <td>11  </td> <td>22.2</td> <td>48  </td> <td>1.3 </td> <td>0   </td> <td>0       </td>\n",
       "        </tr>\n",
       "        <tr>\n",
       "            <td>5   </td> <td>4   </td> <td>sep  </td> <td>sat </td> <td>92.2</td> <td>102.3</td> <td>751.5</td> <td>8.4 </td> <td>24.1</td> <td>27  </td> <td>3.1 </td> <td>0   </td> <td>0       </td>\n",
       "        </tr>\n",
       "    </tbody>\n",
       "</table>\n",
       "<p>... (507 rows omitted)</p>"
      ],
      "text/plain": [
       "X    | Y    | month | day  | FFMC | DMC   | DC    | ISI  | temp | RH   | wind | rain | area\n",
       "4    | 4    | dec   | mon  | 85.4 | 25.4  | 349.7 | 2.6  | 4.6  | 21   | 8.5  | 0    | 2.37676\n",
       "4    | 6    | mar   | sun  | 89.3 | 51.3  | 102.2 | 9.6  | 10.6 | 46   | 4.9  | 0    | 0\n",
       "7    | 4    | sep   | sun  | 92.4 | 105.8 | 758.1 | 9.9  | 25.3 | 27   | 2.7  | 0    | 0\n",
       "9    | 9    | jul   | sun  | 90.1 | 68.6  | 355.2 | 7.2  | 24.8 | 29   | 2.2  | 0    | 0.858662\n",
       "2    | 4    | sep   | sun  | 92.4 | 105.8 | 758.1 | 9.9  | 16   | 45   | 1.8  | 0    | 0\n",
       "7    | 5    | aug   | sat  | 93.7 | 231.1 | 715.1 | 8.4  | 26.4 | 33   | 3.6  | 0    | 0\n",
       "2    | 5    | oct   | sun  | 92.6 | 46.5  | 691.8 | 8.8  | 15.4 | 35   | 0.9  | 0    | 0\n",
       "1    | 2    | aug   | sun  | 91.4 | 142.4 | 601.4 | 10.6 | 19.5 | 39   | 6.3  | 0    | 0\n",
       "7    | 5    | jun   | sun  | 93.1 | 180.4 | 430.8 | 11   | 22.2 | 48   | 1.3  | 0    | 0\n",
       "5    | 4    | sep   | sat  | 92.2 | 102.3 | 751.5 | 8.4  | 24.1 | 27   | 3.1  | 0    | 0\n",
       "... (507 rows omitted)"
      ]
     },
     "execution_count": 194,
     "metadata": {},
     "output_type": "execute_result"
    }
   ],
   "source": [
    "# write your answer here\n",
    "\n",
    "data =Table.read_table('forestfires.csv')\n",
    "data_shufled = data.shuffle()\n",
    "data_shufled\n",
    "a=np.log(data_shufled.column('area')+1)\n",
    "data_shufled=data_shufled.drop('area')\n",
    "data_shufled=data_shufled.with_column('area',a)\n",
    "data_shufled\n",
    "\n"
   ]
  },
  {
   "cell_type": "code",
   "execution_count": 195,
   "metadata": {},
   "outputs": [
    {
     "data": {
      "text/html": [
       "<table border=\"1\" class=\"dataframe\">\n",
       "    <thead>\n",
       "        <tr>\n",
       "            <th>X</th> <th>Y</th> <th>FFMC</th> <th>DMC</th> <th>DC</th> <th>ISI</th> <th>temp</th> <th>RH</th> <th>wind</th> <th>rain</th> <th>area</th> <th>apr</th> <th>aug</th> <th>dec</th> <th>feb</th> <th>jan</th> <th>jul</th> <th>jun</th> <th>mar</th> <th>may</th> <th>nov</th> <th>oct</th> <th>sep</th> <th>fri</th> <th>mon</th> <th>sat</th> <th>sun</th> <th>thu</th> <th>tue</th> <th>wed</th>\n",
       "        </tr>\n",
       "    </thead>\n",
       "    <tbody>\n",
       "        <tr>\n",
       "            <td>4   </td> <td>4   </td> <td>83  </td> <td>23.3 </td> <td>85.3 </td> <td>2.3 </td> <td>16.7</td> <td>20  </td> <td>3.1 </td> <td>0   </td> <td>0      </td> <td>1   </td> <td>0   </td> <td>0   </td> <td>0   </td> <td>0   </td> <td>0   </td> <td>0   </td> <td>0   </td> <td>0   </td> <td>0   </td> <td>0   </td> <td>0   </td> <td>1   </td> <td>0   </td> <td>0   </td> <td>0   </td> <td>0   </td> <td>0   </td> <td>0   </td>\n",
       "        </tr>\n",
       "        <tr>\n",
       "            <td>3   </td> <td>4   </td> <td>91.6</td> <td>112.4</td> <td>573  </td> <td>8.9 </td> <td>11.2</td> <td>84  </td> <td>7.6 </td> <td>0   </td> <td>1.45862</td> <td>0   </td> <td>1   </td> <td>0   </td> <td>0   </td> <td>0   </td> <td>0   </td> <td>0   </td> <td>0   </td> <td>0   </td> <td>0   </td> <td>0   </td> <td>0   </td> <td>1   </td> <td>0   </td> <td>0   </td> <td>0   </td> <td>0   </td> <td>0   </td> <td>0   </td>\n",
       "        </tr>\n",
       "        <tr>\n",
       "            <td>6   </td> <td>5   </td> <td>63.5</td> <td>70.8 </td> <td>665.3</td> <td>0.8 </td> <td>17  </td> <td>72  </td> <td>6.7 </td> <td>0   </td> <td>0      </td> <td>0   </td> <td>1   </td> <td>0   </td> <td>0   </td> <td>0   </td> <td>0   </td> <td>0   </td> <td>0   </td> <td>0   </td> <td>0   </td> <td>0   </td> <td>0   </td> <td>1   </td> <td>0   </td> <td>0   </td> <td>0   </td> <td>0   </td> <td>0   </td> <td>0   </td>\n",
       "        </tr>\n",
       "    </tbody>\n",
       "</table>\n",
       "<p>... (410 rows omitted)</p>"
      ],
      "text/plain": [
       "<IPython.core.display.HTML object>"
      ]
     },
     "metadata": {},
     "output_type": "display_data"
    }
   ],
   "source": [
    "\n",
    "\n",
    "\n",
    "\n",
    "#write your answer here**\n",
    "months = data.group('month').column(0)\n",
    "days = data.group('day').column(0)\n",
    "\n",
    "data2 =data_shufled\n",
    "size = data2.num_rows\n",
    "for i in range(0,len(months)):\n",
    "    labels = np.zeros(len(months))\n",
    "    labels[i] = 1\n",
    "    tmp_table = Table().with_columns('month',months,months[i],labels)\n",
    "    data2 = data2.join('month',tmp_table)    \n",
    "data2 = data2.drop('month')\n",
    "for i in range(0,len(days)):\n",
    "    labels = np.zeros(len(days))\n",
    "    labels[i] = 1\n",
    "    tmp_table = Table().with_columns('day',days,days[i],labels)\n",
    "    data2 = data2.join('day',tmp_table)\n",
    "    \n",
    "data2 = data2.drop('day')\n",
    "train = data2.take(np.arange(0,int(size*0.8)))\n",
    "test =data2.take(np.arange(int(size*0.8),size))\n",
    "train.show(3)\n"
   ]
  },
  {
   "cell_type": "markdown",
   "metadata": {},
   "source": [
    "**Question 2 (15 Points)** Build a linear regression model to predict area of forest fires using all features. Print the weigths of each feature and bias value."
   ]
  },
  {
   "cell_type": "code",
   "execution_count": 196,
   "metadata": {},
   "outputs": [
    {
     "data": {
      "text/html": [
       "<table border=\"1\" class=\"dataframe\">\n",
       "    <thead>\n",
       "        <tr>\n",
       "            <th>X</th> <th>Y</th> <th>FFMC</th> <th>DMC</th> <th>DC</th> <th>ISI</th> <th>temp</th> <th>RH</th> <th>wind</th> <th>rain</th> <th>apr</th> <th>aug</th> <th>dec</th> <th>feb</th> <th>jan</th> <th>jul</th> <th>jun</th> <th>mar</th> <th>may</th> <th>nov</th> <th>oct</th> <th>sep</th> <th>fri</th> <th>mon</th> <th>sat</th> <th>sun</th> <th>thu</th> <th>tue</th> <th>wed</th>\n",
       "        </tr>\n",
       "    </thead>\n",
       "    <tbody>\n",
       "        <tr>\n",
       "            <td>4   </td> <td>4   </td> <td>83  </td> <td>23.3 </td> <td>85.3 </td> <td>2.3 </td> <td>16.7</td> <td>20  </td> <td>3.1 </td> <td>0   </td> <td>1   </td> <td>0   </td> <td>0   </td> <td>0   </td> <td>0   </td> <td>0   </td> <td>0   </td> <td>0   </td> <td>0   </td> <td>0   </td> <td>0   </td> <td>0   </td> <td>1   </td> <td>0   </td> <td>0   </td> <td>0   </td> <td>0   </td> <td>0   </td> <td>0   </td>\n",
       "        </tr>\n",
       "        <tr>\n",
       "            <td>3   </td> <td>4   </td> <td>91.6</td> <td>112.4</td> <td>573  </td> <td>8.9 </td> <td>11.2</td> <td>84  </td> <td>7.6 </td> <td>0   </td> <td>0   </td> <td>1   </td> <td>0   </td> <td>0   </td> <td>0   </td> <td>0   </td> <td>0   </td> <td>0   </td> <td>0   </td> <td>0   </td> <td>0   </td> <td>0   </td> <td>1   </td> <td>0   </td> <td>0   </td> <td>0   </td> <td>0   </td> <td>0   </td> <td>0   </td>\n",
       "        </tr>\n",
       "        <tr>\n",
       "            <td>6   </td> <td>5   </td> <td>63.5</td> <td>70.8 </td> <td>665.3</td> <td>0.8 </td> <td>17  </td> <td>72  </td> <td>6.7 </td> <td>0   </td> <td>0   </td> <td>1   </td> <td>0   </td> <td>0   </td> <td>0   </td> <td>0   </td> <td>0   </td> <td>0   </td> <td>0   </td> <td>0   </td> <td>0   </td> <td>0   </td> <td>1   </td> <td>0   </td> <td>0   </td> <td>0   </td> <td>0   </td> <td>0   </td> <td>0   </td>\n",
       "        </tr>\n",
       "        <tr>\n",
       "            <td>2   </td> <td>4   </td> <td>91.6</td> <td>112.4</td> <td>573  </td> <td>8.9 </td> <td>21.4</td> <td>42  </td> <td>3.1 </td> <td>0   </td> <td>0   </td> <td>1   </td> <td>0   </td> <td>0   </td> <td>0   </td> <td>0   </td> <td>0   </td> <td>0   </td> <td>0   </td> <td>0   </td> <td>0   </td> <td>0   </td> <td>1   </td> <td>0   </td> <td>0   </td> <td>0   </td> <td>0   </td> <td>0   </td> <td>0   </td>\n",
       "        </tr>\n",
       "        <tr>\n",
       "            <td>8   </td> <td>6   </td> <td>90.1</td> <td>108  </td> <td>529.8</td> <td>12.5</td> <td>21.2</td> <td>51  </td> <td>8.9 </td> <td>0   </td> <td>0   </td> <td>1   </td> <td>0   </td> <td>0   </td> <td>0   </td> <td>0   </td> <td>0   </td> <td>0   </td> <td>0   </td> <td>0   </td> <td>0   </td> <td>0   </td> <td>1   </td> <td>0   </td> <td>0   </td> <td>0   </td> <td>0   </td> <td>0   </td> <td>0   </td>\n",
       "        </tr>\n",
       "        <tr>\n",
       "            <td>1   </td> <td>4   </td> <td>90.6</td> <td>269.8</td> <td>811.2</td> <td>5.5 </td> <td>22.2</td> <td>45  </td> <td>3.6 </td> <td>0   </td> <td>0   </td> <td>1   </td> <td>0   </td> <td>0   </td> <td>0   </td> <td>0   </td> <td>0   </td> <td>0   </td> <td>0   </td> <td>0   </td> <td>0   </td> <td>0   </td> <td>1   </td> <td>0   </td> <td>0   </td> <td>0   </td> <td>0   </td> <td>0   </td> <td>0   </td>\n",
       "        </tr>\n",
       "        <tr>\n",
       "            <td>1   </td> <td>4   </td> <td>90.5</td> <td>196.8</td> <td>649.9</td> <td>16.3</td> <td>11.8</td> <td>88  </td> <td>4.9 </td> <td>0   </td> <td>0   </td> <td>1   </td> <td>0   </td> <td>0   </td> <td>0   </td> <td>0   </td> <td>0   </td> <td>0   </td> <td>0   </td> <td>0   </td> <td>0   </td> <td>0   </td> <td>1   </td> <td>0   </td> <td>0   </td> <td>0   </td> <td>0   </td> <td>0   </td> <td>0   </td>\n",
       "        </tr>\n",
       "        <tr>\n",
       "            <td>1   </td> <td>3   </td> <td>95.9</td> <td>158  </td> <td>633.6</td> <td>11.3</td> <td>32.4</td> <td>27  </td> <td>2.2 </td> <td>0   </td> <td>0   </td> <td>1   </td> <td>0   </td> <td>0   </td> <td>0   </td> <td>0   </td> <td>0   </td> <td>0   </td> <td>0   </td> <td>0   </td> <td>0   </td> <td>0   </td> <td>1   </td> <td>0   </td> <td>0   </td> <td>0   </td> <td>0   </td> <td>0   </td> <td>0   </td>\n",
       "        </tr>\n",
       "        <tr>\n",
       "            <td>1   </td> <td>3   </td> <td>95.9</td> <td>158  </td> <td>633.6</td> <td>11.3</td> <td>27.5</td> <td>29  </td> <td>4.5 </td> <td>0   </td> <td>0   </td> <td>1   </td> <td>0   </td> <td>0   </td> <td>0   </td> <td>0   </td> <td>0   </td> <td>0   </td> <td>0   </td> <td>0   </td> <td>0   </td> <td>0   </td> <td>1   </td> <td>0   </td> <td>0   </td> <td>0   </td> <td>0   </td> <td>0   </td> <td>0   </td>\n",
       "        </tr>\n",
       "        <tr>\n",
       "            <td>4   </td> <td>4   </td> <td>94.3</td> <td>167.6</td> <td>684.4</td> <td>13  </td> <td>21.8</td> <td>53  </td> <td>3.1 </td> <td>0   </td> <td>0   </td> <td>1   </td> <td>0   </td> <td>0   </td> <td>0   </td> <td>0   </td> <td>0   </td> <td>0   </td> <td>0   </td> <td>0   </td> <td>0   </td> <td>0   </td> <td>1   </td> <td>0   </td> <td>0   </td> <td>0   </td> <td>0   </td> <td>0   </td> <td>0   </td>\n",
       "        </tr>\n",
       "    </tbody>\n",
       "</table>\n",
       "<p>... (403 rows omitted)</p>"
      ],
      "text/plain": [
       "X    | Y    | FFMC | DMC   | DC    | ISI  | temp | RH   | wind | rain | apr  | aug  | dec  | feb  | jan  | jul  | jun  | mar  | may  | nov  | oct  | sep  | fri  | mon  | sat  | sun  | thu  | tue  | wed\n",
       "4    | 4    | 83   | 23.3  | 85.3  | 2.3  | 16.7 | 20   | 3.1  | 0    | 1    | 0    | 0    | 0    | 0    | 0    | 0    | 0    | 0    | 0    | 0    | 0    | 1    | 0    | 0    | 0    | 0    | 0    | 0\n",
       "3    | 4    | 91.6 | 112.4 | 573   | 8.9  | 11.2 | 84   | 7.6  | 0    | 0    | 1    | 0    | 0    | 0    | 0    | 0    | 0    | 0    | 0    | 0    | 0    | 1    | 0    | 0    | 0    | 0    | 0    | 0\n",
       "6    | 5    | 63.5 | 70.8  | 665.3 | 0.8  | 17   | 72   | 6.7  | 0    | 0    | 1    | 0    | 0    | 0    | 0    | 0    | 0    | 0    | 0    | 0    | 0    | 1    | 0    | 0    | 0    | 0    | 0    | 0\n",
       "2    | 4    | 91.6 | 112.4 | 573   | 8.9  | 21.4 | 42   | 3.1  | 0    | 0    | 1    | 0    | 0    | 0    | 0    | 0    | 0    | 0    | 0    | 0    | 0    | 1    | 0    | 0    | 0    | 0    | 0    | 0\n",
       "8    | 6    | 90.1 | 108   | 529.8 | 12.5 | 21.2 | 51   | 8.9  | 0    | 0    | 1    | 0    | 0    | 0    | 0    | 0    | 0    | 0    | 0    | 0    | 0    | 1    | 0    | 0    | 0    | 0    | 0    | 0\n",
       "1    | 4    | 90.6 | 269.8 | 811.2 | 5.5  | 22.2 | 45   | 3.6  | 0    | 0    | 1    | 0    | 0    | 0    | 0    | 0    | 0    | 0    | 0    | 0    | 0    | 1    | 0    | 0    | 0    | 0    | 0    | 0\n",
       "1    | 4    | 90.5 | 196.8 | 649.9 | 16.3 | 11.8 | 88   | 4.9  | 0    | 0    | 1    | 0    | 0    | 0    | 0    | 0    | 0    | 0    | 0    | 0    | 0    | 1    | 0    | 0    | 0    | 0    | 0    | 0\n",
       "1    | 3    | 95.9 | 158   | 633.6 | 11.3 | 32.4 | 27   | 2.2  | 0    | 0    | 1    | 0    | 0    | 0    | 0    | 0    | 0    | 0    | 0    | 0    | 0    | 1    | 0    | 0    | 0    | 0    | 0    | 0\n",
       "1    | 3    | 95.9 | 158   | 633.6 | 11.3 | 27.5 | 29   | 4.5  | 0    | 0    | 1    | 0    | 0    | 0    | 0    | 0    | 0    | 0    | 0    | 0    | 0    | 1    | 0    | 0    | 0    | 0    | 0    | 0\n",
       "4    | 4    | 94.3 | 167.6 | 684.4 | 13   | 21.8 | 53   | 3.1  | 0    | 0    | 1    | 0    | 0    | 0    | 0    | 0    | 0    | 0    | 0    | 0    | 0    | 1    | 0    | 0    | 0    | 0    | 0    | 0\n",
       "... (403 rows omitted)"
      ]
     },
     "execution_count": 196,
     "metadata": {},
     "output_type": "execute_result"
    }
   ],
   "source": [
    "train_area=train.column('area')\n",
    "train_features=train.drop('area')\n",
    "\n",
    "# y =w1*x1+w2*x2+w3*x3+bias\n",
    "def prediction_area(weigths, bias,x):\n",
    "    return sum(weigths*x) + bias\n",
    "train_features"
   ]
  },
  {
   "cell_type": "code",
   "execution_count": 197,
   "metadata": {},
   "outputs": [],
   "source": [
    "def rmse(weights, bias,features,area):\n",
    "    errors =[] \n",
    "    for i in np.arange(len(area)):\n",
    "        predicted = prediction_area(weights,bias, np.array(features.row(i)))\n",
    "        actual = area.item(i)\n",
    "        errors.append((predicted - actual) ** 2)\n",
    "    return np.mean(errors) ** 0.5\n",
    "    \n",
    "def rmse_train(weights):\n",
    "    return rmse(weights[0:len(weights)-1],weights[len(weights)-1],train_features,train_area)\n",
    "    \n",
    "    "
   ]
  },
  {
   "cell_type": "code",
   "execution_count": 198,
   "metadata": {},
   "outputs": [],
   "source": [
    "initial_weights=np.ones(len(train_features.row(0))+1)\n",
    "\n",
    "learned_weights=minimize(rmse_train,start=initial_weights,smooth=True,array=True)\n",
    "\n"
   ]
  },
  {
   "cell_type": "code",
   "execution_count": 199,
   "metadata": {},
   "outputs": [
    {
     "name": "stdout",
     "output_type": "stream",
     "text": [
      "X  0.049842374041361034\n",
      "Y  -0.029399253265922954\n",
      "FFMC  0.011380197850051168\n",
      "DMC  0.0030211644667212083\n",
      "DC  -0.001368023765323848\n",
      "ISI  -0.00928155493004109\n",
      "temp  0.03252995363081708\n",
      "RH  0.002796681810202865\n",
      "wind  0.08227195733065652\n",
      "rain  0.061606028992013735\n",
      "apr  0.5701197687243199\n",
      "aug  0.5160035275088888\n",
      "dec  2.3906014359321714\n",
      "feb  0.6150612170949399\n",
      "jan  0.16661463798782133\n",
      "jul  0.38165992206129945\n",
      "jun  0.15476478432541269\n",
      "mar  0.2125174649754495\n",
      "may  1.0974883446053871\n",
      "nov  1.0\n",
      "oct  1.030557893341968\n",
      "sep  1.0645420483884362\n",
      "fri  0.30418363010487304\n",
      "mon  0.47097427603889375\n",
      "sat  0.6462198580816177\n",
      "sun  0.5300010822727917\n",
      "thu  0.42576337057129005\n",
      "tue  0.8227783863629432\n",
      "wed  1.0\n",
      "bias  -1.8000730672363026\n"
     ]
    }
   ],
   "source": [
    "column_names = np.array(train_features.labels)\n",
    "column_names= np.append(column_names,'bias')\n",
    "for i in range(0,len(column_names)):\n",
    "    print(str(column_names[i]) +'  '+str(learned_weights[i])  )\n",
    "\n"
   ]
  },
  {
   "cell_type": "markdown",
   "metadata": {},
   "source": [
    "**Question 3 (15 Points)** We want to know which feautures are correlated each other. Calculate pearson correlation between each feature pair. Print the results in a matrix format (the diagonals should be 1)."
   ]
  },
  {
   "cell_type": "code",
   "execution_count": 225,
   "metadata": {},
   "outputs": [
    {
     "name": "stdout",
     "output_type": "stream",
     "text": [
      "1.0 0.53 0.0 -0.06 -0.1 0.03 -0.07 0.07 0.02 0.06 0.07 -0.03 -0.05 0.05 -0.05 0.05 0.09 0.04 0.01 nan 0.08 -0.1 -0.02 0.05 0.03 -0.03 0.0 -0.06 nan \n",
      "0.53 1.0 -0.05 -0.01 -0.11 -0.03 -0.04 0.07 -0.03 0.03 0.01 0.02 0.06 0.02 0.01 0.02 0.07 0.06 -0.02 nan -0.0 -0.12 -0.05 0.03 0.01 0.01 0.04 -0.09 nan \n",
      "0.0 -0.05 1.0 0.36 0.32 0.49 0.41 -0.31 -0.03 0.05 -0.12 0.19 -0.12 -0.25 -0.48 0.05 -0.06 -0.07 -0.04 nan -0.01 0.1 0.03 -0.05 -0.01 -0.09 0.09 0.09 nan \n",
      "-0.06 -0.01 0.36 1.0 0.68 0.25 0.47 0.07 -0.09 0.06 -0.21 0.5 -0.17 -0.32 -0.12 -0.02 -0.05 -0.4 -0.09 nan -0.17 0.11 -0.02 -0.13 -0.01 0.02 0.09 0.11 nan \n",
      "-0.1 -0.11 0.32 0.68 1.0 0.21 0.5 -0.05 -0.17 0.03 -0.28 0.28 -0.1 -0.4 -0.13 -0.09 -0.19 -0.64 -0.13 nan 0.09 0.54 -0.0 -0.06 -0.04 0.0 0.06 0.07 nan \n",
      "0.03 -0.03 0.49 0.25 0.21 1.0 0.35 -0.13 0.11 0.06 -0.1 0.25 -0.16 -0.24 -0.11 0.04 0.1 -0.13 -0.07 nan -0.05 -0.01 0.07 -0.17 -0.03 0.02 -0.01 0.24 nan \n",
      "-0.07 -0.04 0.41 0.47 0.5 0.35 1.0 -0.53 -0.22 0.08 -0.17 0.34 -0.32 -0.3 -0.16 0.17 0.02 -0.35 -0.05 nan -0.07 0.11 -0.07 -0.14 0.05 0.03 0.07 0.12 nan \n",
      "0.07 0.07 -0.31 0.07 -0.05 -0.13 -0.53 1.0 0.06 0.09 0.01 0.07 -0.06 0.11 0.19 -0.01 0.02 -0.07 0.09 nan -0.07 -0.08 0.05 -0.01 -0.05 0.13 -0.16 0.01 nan \n",
      "0.02 -0.03 -0.03 -0.09 -0.17 0.11 -0.22 0.06 1.0 0.06 0.07 0.04 0.25 -0.05 -0.08 -0.08 0.0 0.17 0.02 nan -0.03 -0.16 0.14 -0.07 -0.07 0.04 -0.06 0.0 nan \n",
      "0.06 0.03 0.05 0.06 0.03 0.06 0.08 0.09 0.06 1.0 -0.01 0.09 -0.01 -0.01 -0.0 -0.02 -0.01 -0.02 -0.0 nan -0.01 -0.05 -0.0 -0.03 -0.03 -0.02 -0.03 0.25 nan \n",
      "0.07 0.01 -0.12 -0.21 -0.28 -0.1 -0.17 0.01 0.07 -0.01 1.0 -0.1 -0.02 -0.03 -0.01 -0.03 -0.03 -0.05 -0.01 nan -0.02 -0.1 -0.03 -0.02 -0.03 0.05 0.04 -0.03 nan \n",
      "-0.03 0.02 0.19 0.5 0.28 0.25 0.34 0.07 0.04 0.09 -0.1 1.0 -0.1 -0.15 -0.05 -0.18 -0.14 -0.26 -0.05 nan -0.12 -0.52 -0.11 -0.15 -0.01 0.08 0.07 0.25 nan \n",
      "-0.05 0.06 -0.12 -0.17 -0.1 -0.16 -0.32 -0.06 0.25 -0.01 -0.02 -0.1 1.0 -0.03 -0.01 -0.03 -0.02 -0.05 -0.01 nan -0.02 -0.09 -0.02 0.13 -0.07 -0.03 -0.0 -0.02 nan \n",
      "0.05 0.02 -0.25 -0.32 -0.4 -0.24 -0.3 0.11 -0.05 -0.01 -0.03 -0.15 -0.03 1.0 -0.01 -0.05 -0.04 -0.07 -0.01 nan -0.03 -0.15 0.05 -0.0 0.02 0.0 -0.05 -0.04 nan \n",
      "-0.05 0.01 -0.48 -0.12 -0.13 -0.11 -0.16 0.19 -0.08 -0.0 -0.01 -0.05 -0.01 -0.01 1.0 -0.02 -0.01 -0.02 -0.0 nan -0.01 -0.05 -0.04 -0.03 0.05 0.04 -0.03 -0.01 nan \n",
      "0.05 0.02 0.05 -0.02 -0.09 0.04 0.17 -0.01 -0.08 -0.02 -0.03 -0.18 -0.03 -0.05 -0.02 1.0 -0.05 -0.08 -0.02 nan -0.04 -0.17 -0.05 -0.0 0.09 -0.01 -0.01 -0.05 nan \n",
      "0.09 0.07 -0.06 -0.05 -0.19 0.1 0.02 0.02 0.0 -0.01 -0.03 -0.14 -0.02 -0.04 -0.01 -0.05 1.0 -0.07 -0.01 nan -0.03 -0.13 0.0 0.02 -0.03 0.02 -0.0 -0.04 nan \n",
      "0.04 0.06 -0.07 -0.4 -0.64 -0.13 -0.35 -0.07 0.17 -0.02 -0.05 -0.26 -0.05 -0.07 -0.02 -0.08 -0.07 1.0 -0.02 nan -0.06 -0.25 0.03 0.08 0.02 -0.06 -0.04 -0.07 nan \n",
      "0.01 -0.02 -0.04 -0.09 -0.13 -0.07 -0.05 0.09 0.02 -0.0 -0.01 -0.05 -0.01 -0.01 -0.0 -0.02 -0.01 -0.02 1.0 nan -0.01 -0.05 0.05 -0.03 0.05 -0.04 -0.03 -0.01 nan \n",
      "nan nan nan nan nan nan nan nan nan nan nan nan nan nan nan nan nan nan nan nan nan nan nan nan nan nan nan nan nan \n",
      "0.08 -0.0 -0.01 -0.17 0.09 -0.05 -0.07 -0.07 -0.03 -0.01 -0.02 -0.12 -0.02 -0.03 -0.01 -0.04 -0.03 -0.06 -0.01 nan 1.0 -0.12 -0.05 0.08 0.03 0.02 -0.07 -0.03 nan \n",
      "-0.1 -0.12 0.1 0.11 0.54 -0.01 0.11 -0.08 -0.16 -0.05 -0.1 -0.52 -0.09 -0.15 -0.05 -0.17 -0.13 -0.25 -0.05 nan -0.12 1.0 0.12 0.04 -0.04 -0.06 0.01 -0.13 nan \n",
      "-0.02 -0.05 0.03 -0.02 -0.0 0.07 -0.07 0.05 0.14 -0.0 -0.03 -0.11 -0.02 0.05 -0.04 -0.05 0.0 0.03 0.05 nan -0.05 0.12 1.0 -0.24 -0.26 -0.28 -0.21 -0.1 nan \n",
      "0.05 0.03 -0.05 -0.13 -0.06 -0.17 -0.14 -0.01 -0.07 -0.03 -0.02 -0.15 0.13 -0.0 -0.03 -0.0 0.02 0.08 -0.03 nan 0.08 0.04 -0.24 1.0 -0.24 -0.26 -0.19 -0.09 nan \n",
      "0.03 0.01 -0.01 -0.01 -0.04 -0.03 0.05 -0.05 -0.07 -0.03 -0.03 -0.01 -0.07 0.02 0.05 0.09 -0.03 0.02 0.05 nan 0.03 -0.04 -0.26 -0.24 1.0 -0.28 -0.21 -0.09 nan \n",
      "-0.03 0.01 -0.09 0.02 0.0 0.02 0.03 0.13 0.04 -0.02 0.05 0.08 -0.03 0.0 0.04 -0.01 0.02 -0.06 -0.04 nan 0.02 -0.06 -0.28 -0.26 -0.28 1.0 -0.23 -0.1 nan \n",
      "0.0 0.04 0.09 0.09 0.06 -0.01 0.07 -0.16 -0.06 -0.03 0.04 0.07 -0.0 -0.05 -0.03 -0.01 -0.0 -0.04 -0.03 nan -0.07 0.01 -0.21 -0.19 -0.21 -0.23 1.0 -0.08 nan \n",
      "-0.06 -0.09 0.09 0.11 0.07 0.24 0.12 0.01 0.0 0.25 -0.03 0.25 -0.02 -0.04 -0.01 -0.05 -0.04 -0.07 -0.01 nan -0.03 -0.13 -0.1 -0.09 -0.09 -0.1 -0.08 1.0 nan \n",
      "nan nan nan nan nan nan nan nan nan nan nan nan nan nan nan nan nan nan nan nan nan nan nan nan nan nan nan nan nan \n"
     ]
    },
    {
     "data": {
      "text/html": [
       "<table border=\"1\" class=\"dataframe\">\n",
       "    <thead>\n",
       "        <tr>\n",
       "            <th>fri</th> <th>count</th>\n",
       "        </tr>\n",
       "    </thead>\n",
       "    <tbody>\n",
       "        <tr>\n",
       "            <td>0   </td> <td>328  </td>\n",
       "        </tr>\n",
       "        <tr>\n",
       "            <td>1   </td> <td>85   </td>\n",
       "        </tr>\n",
       "    </tbody>\n",
       "</table>"
      ],
      "text/plain": [
       "fri  | count\n",
       "0    | 328\n",
       "1    | 85"
      ]
     },
     "execution_count": 225,
     "metadata": {},
     "output_type": "execute_result"
    }
   ],
   "source": [
    "from scipy.stats import pearsonr\n",
    "\n",
    "\n",
    "for i in range(0,len(train_features)):\n",
    "    for j in range(0,len(train_features)):\n",
    "        print (round(pearsonr(train_features.column(i),train_features.column(j))[0],2),end=' ')\n",
    "    print()\n",
    "    \n",
    "\n",
    "        \n",
    "train_features.group('fri')        \n",
    "    "
   ]
  },
  {
   "cell_type": "markdown",
   "metadata": {},
   "source": [
    "**Question 4 (5 Points)** Calculate Pearson correlation of each feature with the forest fire area."
   ]
  },
  {
   "cell_type": "code",
   "execution_count": 203,
   "metadata": {},
   "outputs": [
    {
     "name": "stdout",
     "output_type": "stream",
     "text": [
      "Pearson correlation for each feature with the forest fire area.\n",
      "X  0.05049537918842969\n",
      "Y  0.014729650059648457\n",
      "FFMC  0.05824416512505523\n",
      "DMC  0.04377977380904798\n",
      "DC  0.03841039011227797\n",
      "ISI  0.010057444270250177\n",
      "temp  0.029181263374785785\n",
      "RH  -0.04016794007255663\n",
      "wind  0.10393396124597931\n",
      "rain  0.040343665287560615\n",
      "apr  0.012705208643537745\n",
      "aug  -0.025529217736360754\n",
      "dec  0.13113779357844407\n",
      "feb  -0.006014898848106874\n",
      "jan  -0.055332154627568804\n",
      "jul  -0.012754330489404303\n",
      "jun  -0.03166906067774514\n",
      "mar  -0.0541376968307047\n",
      "may  0.03711674356313818\n",
      "nov  nan\n",
      "oct  -0.011192863905184272\n",
      "sep  0.04929412813668428\n",
      "fri  -0.047808399792384416\n",
      "mon  -0.0033836476340481647\n",
      "sat  0.046049392489842494\n",
      "sun  0.009491261155699943\n",
      "thu  -0.022136488855183233\n",
      "tue  0.03287953939024034\n",
      "wed  nan\n"
     ]
    }
   ],
   "source": [
    "\n",
    "print('Pearson correlation for each feature with the forest fire area.')\n",
    "result=[]\n",
    "for i in range(0,len(train_features)):\n",
    "    \n",
    "    row=pearsonr(train_features.column(i),train_area)[0]\n",
    "    result.append(row)\n",
    "    print (str(column_names[i]) +'  '+str(row))\n",
    "\n",
    "def mutlak(x):\n",
    "    \n",
    "    return \n",
    "    \n",
    "Correlation_table_for_feature=Table().with_columns('Labels',column_names[:len(column_names)-1],'Corelation with Area',result).with_column('Absolute Corelation with Area',abs(Correlation_table_for_feature.column('Corelation with Area')))\n",
    "Correlation_table_for_feature_sorted=Correlation_table_for_feature.where('Absolute Corelation with Area',are.above_or_equal_to(0)).sort('Absolute Corelation with Area',descending=True)\n",
    "    "
   ]
  },
  {
   "cell_type": "markdown",
   "metadata": {},
   "source": [
    "**Question 5 (15 Points)Feature Selection** We want to use 5 features which have the highest orrelation with the forest fire area. However, we do not want to use any correlated feature such that no feature pair in these selected features should have a correlation higher than 0.5 or less than -0.5. If there is such a pair, remove the  feature which is less correlated with forest fire area and pick the feature which has the most correlation with the fire area among all other previosuly not selected features. Eventually you should have 5 features."
   ]
  },
  {
   "cell_type": "code",
   "execution_count": 204,
   "metadata": {},
   "outputs": [
    {
     "data": {
      "text/html": [
       "<table border=\"1\" class=\"dataframe\">\n",
       "    <thead>\n",
       "        <tr>\n",
       "            <th>Labels</th> <th>Corelation with Area</th> <th>Absolute Corelation with Area</th>\n",
       "        </tr>\n",
       "    </thead>\n",
       "    <tbody>\n",
       "        <tr>\n",
       "            <td>X     </td> <td>0.0504954           </td> <td>0.0504954                    </td>\n",
       "        </tr>\n",
       "        <tr>\n",
       "            <td>sep   </td> <td>0.0492941           </td> <td>0.0492941                    </td>\n",
       "        </tr>\n",
       "        <tr>\n",
       "            <td>fri   </td> <td>-0.0478084          </td> <td>0.0478084                    </td>\n",
       "        </tr>\n",
       "        <tr>\n",
       "            <td>sat   </td> <td>0.0460494           </td> <td>0.0460494                    </td>\n",
       "        </tr>\n",
       "        <tr>\n",
       "            <td>DMC   </td> <td>0.0437798           </td> <td>0.0437798                    </td>\n",
       "        </tr>\n",
       "        <tr>\n",
       "            <td>rain  </td> <td>0.0403437           </td> <td>0.0403437                    </td>\n",
       "        </tr>\n",
       "        <tr>\n",
       "            <td>RH    </td> <td>-0.0401679          </td> <td>0.0401679                    </td>\n",
       "        </tr>\n",
       "        <tr>\n",
       "            <td>DC    </td> <td>0.0384104           </td> <td>0.0384104                    </td>\n",
       "        </tr>\n",
       "        <tr>\n",
       "            <td>may   </td> <td>0.0371167           </td> <td>0.0371167                    </td>\n",
       "        </tr>\n",
       "        <tr>\n",
       "            <td>tue   </td> <td>0.0328795           </td> <td>0.0328795                    </td>\n",
       "        </tr>\n",
       "    </tbody>\n",
       "</table>\n",
       "<p>... (17 rows omitted)</p>"
      ],
      "text/plain": [
       "Labels | Corelation with Area | Absolute Corelation with Area\n",
       "X      | 0.0504954            | 0.0504954\n",
       "sep    | 0.0492941            | 0.0492941\n",
       "fri    | -0.0478084           | 0.0478084\n",
       "sat    | 0.0460494            | 0.0460494\n",
       "DMC    | 0.0437798            | 0.0437798\n",
       "rain   | 0.0403437            | 0.0403437\n",
       "RH     | -0.0401679           | 0.0401679\n",
       "DC     | 0.0384104            | 0.0384104\n",
       "may    | 0.0371167            | 0.0371167\n",
       "tue    | 0.0328795            | 0.0328795\n",
       "... (17 rows omitted)"
      ]
     },
     "execution_count": 204,
     "metadata": {},
     "output_type": "execute_result"
    }
   ],
   "source": [
    "First_five_row=Correlation_table_for_feature_sorted.take(np.arange(0,5))\n",
    "Correlation_table_for_feature_sorted=Correlation_table_for_feature_sorted.remove(range(0,5))\n",
    "Correlation_table_for_feature_sorted"
   ]
  },
  {
   "cell_type": "code",
   "execution_count": 205,
   "metadata": {},
   "outputs": [
    {
     "data": {
      "text/html": [
       "<table border=\"1\" class=\"dataframe\">\n",
       "    <thead>\n",
       "        <tr>\n",
       "            <th>Labels</th> <th>Corelation with Area</th> <th>Absolute Corelation with Area</th>\n",
       "        </tr>\n",
       "    </thead>\n",
       "    <tbody>\n",
       "        <tr>\n",
       "            <td>dec   </td> <td>0.131138            </td> <td>0.131138                     </td>\n",
       "        </tr>\n",
       "        <tr>\n",
       "            <td>wind  </td> <td>0.103934            </td> <td>0.103934                     </td>\n",
       "        </tr>\n",
       "        <tr>\n",
       "            <td>FFMC  </td> <td>0.0582442           </td> <td>0.0582442                    </td>\n",
       "        </tr>\n",
       "        <tr>\n",
       "            <td>jan   </td> <td>-0.0553322          </td> <td>0.0553322                    </td>\n",
       "        </tr>\n",
       "        <tr>\n",
       "            <td>mar   </td> <td>-0.0541377          </td> <td>0.0541377                    </td>\n",
       "        </tr>\n",
       "    </tbody>\n",
       "</table>"
      ],
      "text/plain": [
       "Labels | Corelation with Area | Absolute Corelation with Area\n",
       "dec    | 0.131138             | 0.131138\n",
       "wind   | 0.103934             | 0.103934\n",
       "FFMC   | 0.0582442            | 0.0582442\n",
       "jan    | -0.0553322           | 0.0553322\n",
       "mar    | -0.0541377           | 0.0541377"
      ]
     },
     "execution_count": 205,
     "metadata": {},
     "output_type": "execute_result"
    }
   ],
   "source": [
    "First_five_row"
   ]
  },
  {
   "cell_type": "code",
   "execution_count": null,
   "metadata": {},
   "outputs": [],
   "source": []
  },
  {
   "cell_type": "code",
   "execution_count": 206,
   "metadata": {},
   "outputs": [
    {
     "name": "stdout",
     "output_type": "stream",
     "text": [
      "['dec' 'wind' 'FFMC' 'jan' 'mar']\n"
     ]
    }
   ],
   "source": [
    "\n",
    "def control_more_or_less(labels):\n",
    "    \n",
    "    for label1 in labels:\n",
    "        for label2 in labels:\n",
    "            if(label1==label2):\n",
    "                continue\n",
    "            r =pearsonr(train_features.column(label1),train_features.column(label2))[0]\n",
    "            if(r>0.5 or r<-0.5):\n",
    "                return (label1,label2)\n",
    "    \n",
    "    return True\n",
    "    \n",
    "    \n",
    "control_more_or_less(First_five_row.column(0))\n",
    "\n",
    "def find_row_indice_label_table(label):\n",
    "    \n",
    "    label_column = First_five_row.column(0)\n",
    "    count=0\n",
    "    for lbl in label_column:\n",
    "        if label==lbl:\n",
    "            return count\n",
    "        count+=1\n",
    "        \n",
    "        \n",
    "        \n",
    "    \n",
    "    \n",
    "    \n",
    "    \n",
    "    \n",
    "    \n",
    "    \n",
    "\n",
    "def label_delete(labels):\n",
    "    label1=labels[0]\n",
    "    label2=labels[1]\n",
    "    \n",
    "    label1_correlation_with_area=pearsonr(train_features.column(label1),train_area)[0]\n",
    "    label2_correlation_with_area=pearsonr(train_features.column(label2),train_area)[0]\n",
    "    if label1_correlation_with_area>=label2_correlation_with_area:\n",
    "        First_five_row.remove(find_row_indice_label_table(label2))\n",
    "    else:\n",
    "        First_five_row.remove(find_row_indice_label_table(label1))\n",
    "        \n",
    "    First_five_row.append(Correlation_table_for_feature_sorted.take(0))\n",
    "    Correlation_table_for_feature_sorted.remove(0)\n",
    "        \n",
    "def FeatureSelection(Table):\n",
    "    \n",
    "    labels =Table.column(0)\n",
    "    \n",
    "    control=control_more_or_less(labels)\n",
    "   \n",
    "    if(control==True):\n",
    "        print(labels)\n",
    "        \n",
    "        return\n",
    "    \n",
    "    label_delete(control)\n",
    "    \n",
    "    return FeatureSelection(First_five_row)\n",
    "    \n",
    "        \n",
    "FeatureSelection(First_five_row)    \n",
    "    \n",
    "    \n",
    "        \n",
    "        \n",
    "    \n",
    "    \n",
    "    \n",
    "    "
   ]
  },
  {
   "cell_type": "code",
   "execution_count": 207,
   "metadata": {},
   "outputs": [
    {
     "data": {
      "text/html": [
       "<table border=\"1\" class=\"dataframe\">\n",
       "    <thead>\n",
       "        <tr>\n",
       "            <th>Labels</th> <th>Corelation with Area</th> <th>Absolute Corelation with Area</th>\n",
       "        </tr>\n",
       "    </thead>\n",
       "    <tbody>\n",
       "        <tr>\n",
       "            <td>dec   </td> <td>0.131138            </td> <td>0.131138                     </td>\n",
       "        </tr>\n",
       "        <tr>\n",
       "            <td>wind  </td> <td>0.103934            </td> <td>0.103934                     </td>\n",
       "        </tr>\n",
       "        <tr>\n",
       "            <td>FFMC  </td> <td>0.0582442           </td> <td>0.0582442                    </td>\n",
       "        </tr>\n",
       "        <tr>\n",
       "            <td>jan   </td> <td>-0.0553322          </td> <td>0.0553322                    </td>\n",
       "        </tr>\n",
       "        <tr>\n",
       "            <td>mar   </td> <td>-0.0541377          </td> <td>0.0541377                    </td>\n",
       "        </tr>\n",
       "    </tbody>\n",
       "</table>"
      ],
      "text/plain": [
       "Labels | Corelation with Area | Absolute Corelation with Area\n",
       "dec    | 0.131138             | 0.131138\n",
       "wind   | 0.103934             | 0.103934\n",
       "FFMC   | 0.0582442            | 0.0582442\n",
       "jan    | -0.0553322           | 0.0553322\n",
       "mar    | -0.0541377           | 0.0541377"
      ]
     },
     "execution_count": 207,
     "metadata": {},
     "output_type": "execute_result"
    }
   ],
   "source": [
    "First_five_row"
   ]
  },
  {
   "cell_type": "code",
   "execution_count": 208,
   "metadata": {},
   "outputs": [
    {
     "name": "stdout",
     "output_type": "stream",
     "text": [
      "dec\n",
      "wind\n",
      "FFMC\n",
      "jan\n",
      "mar\n"
     ]
    },
    {
     "data": {
      "text/html": [
       "<table border=\"1\" class=\"dataframe\">\n",
       "    <thead>\n",
       "        <tr>\n",
       "            <th>dec</th> <th>wind</th> <th>FFMC</th> <th>jan</th> <th>mar</th>\n",
       "        </tr>\n",
       "    </thead>\n",
       "    <tbody>\n",
       "        <tr>\n",
       "            <td>0   </td> <td>3.1 </td> <td>83  </td> <td>0   </td> <td>0   </td>\n",
       "        </tr>\n",
       "        <tr>\n",
       "            <td>0   </td> <td>7.6 </td> <td>91.6</td> <td>0   </td> <td>0   </td>\n",
       "        </tr>\n",
       "        <tr>\n",
       "            <td>0   </td> <td>6.7 </td> <td>63.5</td> <td>0   </td> <td>0   </td>\n",
       "        </tr>\n",
       "        <tr>\n",
       "            <td>0   </td> <td>3.1 </td> <td>91.6</td> <td>0   </td> <td>0   </td>\n",
       "        </tr>\n",
       "        <tr>\n",
       "            <td>0   </td> <td>8.9 </td> <td>90.1</td> <td>0   </td> <td>0   </td>\n",
       "        </tr>\n",
       "        <tr>\n",
       "            <td>0   </td> <td>3.6 </td> <td>90.6</td> <td>0   </td> <td>0   </td>\n",
       "        </tr>\n",
       "        <tr>\n",
       "            <td>0   </td> <td>4.9 </td> <td>90.5</td> <td>0   </td> <td>0   </td>\n",
       "        </tr>\n",
       "        <tr>\n",
       "            <td>0   </td> <td>2.2 </td> <td>95.9</td> <td>0   </td> <td>0   </td>\n",
       "        </tr>\n",
       "        <tr>\n",
       "            <td>0   </td> <td>4.5 </td> <td>95.9</td> <td>0   </td> <td>0   </td>\n",
       "        </tr>\n",
       "        <tr>\n",
       "            <td>0   </td> <td>3.1 </td> <td>94.3</td> <td>0   </td> <td>0   </td>\n",
       "        </tr>\n",
       "    </tbody>\n",
       "</table>\n",
       "<p>... (403 rows omitted)</p>"
      ],
      "text/plain": [
       "dec  | wind | FFMC | jan  | mar\n",
       "0    | 3.1  | 83   | 0    | 0\n",
       "0    | 7.6  | 91.6 | 0    | 0\n",
       "0    | 6.7  | 63.5 | 0    | 0\n",
       "0    | 3.1  | 91.6 | 0    | 0\n",
       "0    | 8.9  | 90.1 | 0    | 0\n",
       "0    | 3.6  | 90.6 | 0    | 0\n",
       "0    | 4.9  | 90.5 | 0    | 0\n",
       "0    | 2.2  | 95.9 | 0    | 0\n",
       "0    | 4.5  | 95.9 | 0    | 0\n",
       "0    | 3.1  | 94.3 | 0    | 0\n",
       "... (403 rows omitted)"
      ]
     },
     "execution_count": 208,
     "metadata": {},
     "output_type": "execute_result"
    }
   ],
   "source": [
    "five_features=First_five_row.column(0)\n",
    "five_features_table=Table()\n",
    "for feature in five_features:\n",
    "    print(feature)\n",
    "    five_features_table=five_features_table.with_column(feature,train.column(feature))\n",
    "    \n",
    "    \n",
    "\n",
    "five_features_table"
   ]
  },
  {
   "cell_type": "markdown",
   "metadata": {},
   "source": [
    "**Question 6 (15 Points)** Build a linear regression model using the features selected in Question 5. Print the weigths of each feature and bias value."
   ]
  },
  {
   "cell_type": "code",
   "execution_count": 209,
   "metadata": {},
   "outputs": [],
   "source": [
    "\n",
    "\n",
    "# y =w1*x1+w2*x2+w3*x3+bias\n",
    "def prediction_area(weigths, bias,x):\n",
    "    return sum(weigths*x) + bias\n",
    "\n",
    "\n",
    "def rmse_with_five(weights, bias,features,area):\n",
    "    errors =[] \n",
    "    for i in np.arange(len(area)):\n",
    "        predicted = prediction_area(weights,bias, np.array(five_features_table.row(i)))\n",
    "        actual = area.item(i)\n",
    "        errors.append((predicted - actual) ** 2)\n",
    "    return np.mean(errors) ** 0.5\n",
    "    \n",
    "def rmse_train_with_five_feature(weights):\n",
    "    return rmse_with_five(weights[0:len(weights)-1],weights[len(weights)-1],five_features_table,train_area)\n",
    "    "
   ]
  },
  {
   "cell_type": "code",
   "execution_count": 210,
   "metadata": {},
   "outputs": [],
   "source": [
    "\n",
    "initial_five_weights=np.ones(len(five_features_table.row(0))+1)\n",
    "learned_weights_with_five=minimize(rmse_train_with_five_feature,start=initial_five_weights,smooth=True,array=True)\n"
   ]
  },
  {
   "cell_type": "code",
   "execution_count": 211,
   "metadata": {},
   "outputs": [
    {
     "data": {
      "text/plain": [
       "array([ 1.22710572,  0.06518457,  0.01437652, -0.40287502, -0.26274086,\n",
       "       -0.45168387])"
      ]
     },
     "execution_count": 211,
     "metadata": {},
     "output_type": "execute_result"
    }
   ],
   "source": [
    "learned_weights_with_five"
   ]
  },
  {
   "cell_type": "code",
   "execution_count": 212,
   "metadata": {},
   "outputs": [
    {
     "name": "stdout",
     "output_type": "stream",
     "text": [
      "dec  1.2271057217202788\n",
      "wind  0.06518457140626864\n",
      "FFMC  0.014376522666136315\n",
      "jan  -0.4028750172412079\n",
      "mar  -0.2627408623613958\n",
      "bias  -0.45168387410805166\n"
     ]
    }
   ],
   "source": [
    "column_names = np.array(five_features_table.labels)\n",
    "column_names= np.append(column_names,'bias')\n",
    "for i in range(0,len(column_names)):\n",
    "    print(str(column_names[i]) +'  '+str(learned_weights_with_five[i])  )\n"
   ]
  },
  {
   "cell_type": "code",
   "execution_count": null,
   "metadata": {},
   "outputs": [],
   "source": []
  },
  {
   "cell_type": "markdown",
   "metadata": {},
   "source": [
    "**Question 7 (10 Points)**  Calculate root mean square error value of your models in Question 2 and Question 6 on your test data."
   ]
  },
  {
   "cell_type": "code",
   "execution_count": 213,
   "metadata": {},
   "outputs": [
    {
     "name": "stdout",
     "output_type": "stream",
     "text": [
      "With five features rmse 1.3646853694649423\n",
      "With all features rmse  1.3424715558500797\n"
     ]
    }
   ],
   "source": [
    "#write your answer here**\n",
    "five_rmse=rmse_with_five(learned_weights_with_five[0:len(learned_weights_with_five)-1],learned_weights_with_five[len(learned_weights_with_five)-1],five_features_table,train_area)\n",
    "first_rsme=rmse(learned_weights[0:len(learned_weights)-1],learned_weights[len(learned_weights)-1],train_features,train_area)\n",
    "\n",
    "print('With five features rmse '+str(five_rmse))\n",
    "print('With all features rmse  '+str(first_rsme))\n",
    "\n"
   ]
  },
  {
   "cell_type": "markdown",
   "metadata": {},
   "source": [
    "**Question 8 (5 Points)** Plot the test data where x axis is the actual forest fire area and y axis is the predicted values by the model in Question 2 and Question 6. The colors for each model should be different. "
   ]
  },
  {
   "cell_type": "code",
   "execution_count": 214,
   "metadata": {},
   "outputs": [
    {
     "data": {
      "text/html": [
       "<table border=\"1\" class=\"dataframe\">\n",
       "    <thead>\n",
       "        <tr>\n",
       "            <th>Fire Area</th> <th>Five Atribute Prediction</th> <th>All Atribute Prediction</th>\n",
       "        </tr>\n",
       "    </thead>\n",
       "    <tbody>\n",
       "        <tr>\n",
       "            <td>5.36542  </td> <td>0.999986                </td> <td>1.39709                </td>\n",
       "        </tr>\n",
       "        <tr>\n",
       "            <td>5.22982  </td> <td>1.15997                 </td> <td>1.88216                </td>\n",
       "        </tr>\n",
       "        <tr>\n",
       "            <td>4.66965  </td> <td>0.963767                </td> <td>1.7978                 </td>\n",
       "        </tr>\n",
       "        <tr>\n",
       "            <td>4.64813  </td> <td>1.03258                 </td> <td>1.63378                </td>\n",
       "        </tr>\n",
       "        <tr>\n",
       "            <td>4.49413  </td> <td>1.17723                 </td> <td>2.05147                </td>\n",
       "        </tr>\n",
       "        <tr>\n",
       "            <td>4.47107  </td> <td>1.23877                 </td> <td>1.88757                </td>\n",
       "        </tr>\n",
       "        <tr>\n",
       "            <td>4.42784  </td> <td>1.12738                 </td> <td>1.44394                </td>\n",
       "        </tr>\n",
       "        <tr>\n",
       "            <td>3.92375  </td> <td>1.2263                  </td> <td>1.6197                 </td>\n",
       "        </tr>\n",
       "        <tr>\n",
       "            <td>3.72666  </td> <td>1.1059                  </td> <td>1.65869                </td>\n",
       "        </tr>\n",
       "        <tr>\n",
       "            <td>3.6561   </td> <td>1.13697                 </td> <td>1.73817                </td>\n",
       "        </tr>\n",
       "    </tbody>\n",
       "</table>\n",
       "<p>... (94 rows omitted)</p>"
      ],
      "text/plain": [
       "Fire Area | Five Atribute Prediction | All Atribute Prediction\n",
       "5.36542   | 0.999986                 | 1.39709\n",
       "5.22982   | 1.15997                  | 1.88216\n",
       "4.66965   | 0.963767                 | 1.7978\n",
       "4.64813   | 1.03258                  | 1.63378\n",
       "4.49413   | 1.17723                  | 2.05147\n",
       "4.47107   | 1.23877                  | 1.88757\n",
       "4.42784   | 1.12738                  | 1.44394\n",
       "3.92375   | 1.2263                   | 1.6197\n",
       "3.72666   | 1.1059                   | 1.65869\n",
       "3.6561    | 1.13697                  | 1.73817\n",
       "... (94 rows omitted)"
      ]
     },
     "execution_count": 214,
     "metadata": {},
     "output_type": "execute_result"
    }
   ],
   "source": [
    "\n",
    "\n",
    "five_features=First_five_row.column(0)\n",
    "five_features_table=Table()\n",
    "for feature in five_features:\n",
    " \n",
    "    five_features_table=five_features_table.with_column(feature,test.column(feature))\n",
    "    \n",
    "\n",
    "    \n",
    "def prediction_result(weights, bias,five_features_table):\n",
    "    result = []\n",
    "    for i in np.arange(len(five_features_table.column(0))):\n",
    "        predicted = prediction_area(weights,bias, np.array(five_features_table.row(i)))\n",
    "        result.append(predicted)\n",
    "    return result    \n",
    "\n",
    "\n",
    "five_atrribute_prediction=prediction_result(learned_weights_with_five[0:len(learned_weights_with_five)-1],learned_weights_with_five[len(learned_weights_with_five)-1],five_features_table)\n",
    "\n",
    "all_atrribute_prediction=prediction_result(learned_weights[0:len(learned_weights)-1],learned_weights[len(learned_weights)-1],test.drop('area'))\n",
    "\n",
    "\n",
    "Prediction_table =Table().with_columns('Fire Area',test.column('area'),'Five Atribute Prediction',\n",
    "                                      five_atrribute_prediction,'All Atribute Prediction',\n",
    "                                      all_atrribute_prediction).sort('Fire Area',descending=True)\n",
    "\n",
    "\n",
    "Prediction_table"
   ]
  },
  {
   "cell_type": "code",
   "execution_count": 215,
   "metadata": {},
   "outputs": [
    {
     "data": {
      "image/png": "[encoded data removed]",
      "text/plain": [
       "<Figure size 360x360 with 1 Axes>"
      ]
     },
     "metadata": {},
     "output_type": "display_data"
    }
   ],
   "source": [
    "\n",
    "\n",
    "Prediction_table.scatter('Fire Area')\n",
    "\n"
   ]
  },
  {
   "cell_type": "markdown",
   "metadata": {},
   "source": [
    "**Question 9(20 Points)K-fold**. Build a knn model for this problem where the predicted area is the mean of the closest 3 neighbors. Calculate RMSE score for this model on your test data."
   ]
  },
  {
   "cell_type": "code",
   "execution_count": null,
   "metadata": {},
   "outputs": [],
   "source": []
  },
  {
   "cell_type": "code",
   "execution_count": 216,
   "metadata": {},
   "outputs": [
    {
     "data": {
      "text/plain": [
       "1.556235101167714"
      ]
     },
     "execution_count": 216,
     "metadata": {},
     "output_type": "execute_result"
    }
   ],
   "source": [
    "def distance(data1,data2):\n",
    "    \n",
    "    data1=np.array(data1)\n",
    "    data2=np.array(data2)\n",
    "\n",
    "    \n",
    "    return np.sqrt(np.sum((data1-data2)**2))\n",
    "    \n",
    "def distanceCalculator(train_with_numeric, new):\n",
    "    data_without_target =train_with_numeric.drop('area')\n",
    "   \n",
    "    def subDistance(row):\n",
    "        return distance(np.array(new),np.array(row))\n",
    "    return data_without_target.apply(subDistance)\n",
    "\n",
    "def appending_sorted_DistancetoTable(data_without_target, new):\n",
    "    \n",
    "    return data_without_target.with_column('Distance',distanceCalculator(data_without_target, new)).sort('Distance')\n",
    "\n",
    "def closest(data,newpoint,k):\n",
    "    \n",
    "    data_with_distance = appending_sorted_DistancetoTable(data,newpoint)\n",
    "    taken_k=data_with_distance.take(np.arange(0,k))\n",
    "    return taken_k\n",
    "\n",
    "def predictionKNN(train,new,k):\n",
    "\n",
    "\n",
    "    taken = closest(train,new,3)\n",
    "    \n",
    "   \n",
    "    return np.mean(taken.column('area'))\n",
    "\n",
    "\n",
    "def accuracy(train_data,test_data,k):\n",
    "    \n",
    "    test_features = test_data.drop('area')\n",
    "    \n",
    "    def detection(row):\n",
    "        return predictionKNN(train_data,row,k)\n",
    "    \n",
    "    test_class_result = test_features.apply(detection)\n",
    "    return test_data.with_column('area prediction',test_class_result)\n",
    "\n",
    "\n",
    "test_feature=test.drop('area')\n",
    "result_table = accuracy(train,test,3)\n",
    "result_table\n",
    "\n",
    "\n",
    "def rmse_KNN(Table):\n",
    "    errors =[] \n",
    "    for i in np.arange(len(Table.column('area'))):\n",
    "        predicted =Table.column('area prediction')[i] \n",
    "        actual = Table.column('area')[i] \n",
    "        errors.append((predicted - actual) ** 2)\n",
    "    \n",
    "    return np.mean(errors) ** 0.5\n",
    "\n",
    "rmse_KNN(result_table)"
   ]
  },
  {
   "cell_type": "code",
   "execution_count": 217,
   "metadata": {},
   "outputs": [
    {
     "data": {
      "image/png": "[encoded data removed]",
      "text/plain": [
       "<Figure size 360x360 with 1 Axes>"
      ]
     },
     "metadata": {},
     "output_type": "display_data"
    }
   ],
   "source": [
    "result_table.select('area','area prediction').scatter('area')"
   ]
  },
  {
   "cell_type": "code",
   "execution_count": null,
   "metadata": {},
   "outputs": [],
   "source": []
  },
  {
   "cell_type": "code",
   "execution_count": null,
   "metadata": {},
   "outputs": [],
   "source": []
  }
 ],
 "metadata": {
  "kernelspec": {
   "display_name": "Python 3",
   "language": "python",
   "name": "python3"
  },
  "language_info": {
   "codemirror_mode": {
    "name": "ipython",
    "version": 3
   },
   "file_extension": ".py",
   "mimetype": "text/x-python",
   "name": "python",
   "nbconvert_exporter": "python",
   "pygments_lexer": "ipython3",
   "version": "3.7.4"
  }
 },
 "nbformat": 4,
 "nbformat_minor": 1
}
